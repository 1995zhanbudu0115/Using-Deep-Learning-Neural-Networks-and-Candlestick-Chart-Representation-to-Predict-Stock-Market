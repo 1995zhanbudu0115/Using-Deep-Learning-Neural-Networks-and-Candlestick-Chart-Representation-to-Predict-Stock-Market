{
 "cells": [
  {
   "cell_type": "code",
   "execution_count": 4,
   "metadata": {},
   "outputs": [
    {
     "name": "stderr",
     "output_type": "stream",
     "text": [
      "Using TensorFlow backend.\n"
     ]
    }
   ],
   "source": [
    "import pandas as pd\n",
    "import numpy as np\n",
    "import keras_resnet.models\n",
    "import keras\n",
    "from keras.utils import np_utils\n",
    "from sklearn import preprocessing"
   ]
  },
  {
   "cell_type": "code",
   "execution_count": 5,
   "metadata": {},
   "outputs": [],
   "source": [
    "def dataPreprocessing(dataFile,normalize,seq_len):\n",
    "    #data pre-processing\n",
    "    data = pd.read_csv(dataFile,index_col=0)\n",
    "    columnsTitles=[\"adjOpen\",\"adjHigh\",\"adjLow\",\"adjVolume\",\"adjClose\"]\n",
    "    data=data.reindex(columns=columnsTitles)\n",
    "    if normalize:\n",
    "        min_max_scaler = preprocessing.MinMaxScaler()\n",
    "        data['adjOpen'] = min_max_scaler.fit_transform(\n",
    "            data.adjOpen.values.reshape(-1, 1))\n",
    "        data['adjHigh'] = min_max_scaler.fit_transform(\n",
    "            data.adjHigh.values.reshape(-1, 1))\n",
    "        data['adjLow'] = min_max_scaler.fit_transform(\n",
    "            data.adjLow.values.reshape(-1, 1))\n",
    "        data['adjVolume'] = min_max_scaler.fit_transform(\n",
    "            data.adjVolume.values.reshape(-1, 1))\n",
    "        data['adjClose'] = min_max_scaler.fit_transform(\n",
    "            data.adjClose.values.reshape(-1, 1))\n",
    "    amount_of_features = len(data.columns)\n",
    "    dataX = data.as_matrix()\n",
    "    sequence_length = seq_len + 1\n",
    "    result = []\n",
    "    # maxmimum date = lastest date - sequence length\n",
    "    for index in range(len(dataX) - sequence_length):\n",
    "        # index : index + seq_len days\n",
    "        result.append(dataX[index: index + sequence_length])\n",
    "    result = np.array(result)\n",
    "    X = result[:, :-1]\n",
    "    Y = result[:, -1][:, -1]\n",
    "#     X_test = result[int(row):, :-1]\n",
    "#     y_test = result[int(row):, -1][:, -1]\n",
    "#     X_train = X_train.reshape(len(X_train),2,2,1)\n",
    "#     X_test = X_test.reshape(len(X_test),2,2,1)\n",
    "    X = np.reshape(\n",
    "        X, (X.shape[0], X.shape[1], amount_of_features,1))\n",
    "#     X_test = np.reshape(\n",
    "#         X_test, (X_test.shape[0], X_test.shape[1], amount_of_features,1))\n",
    "    return [X, Y]"
   ]
  },
  {
   "cell_type": "code",
   "execution_count": 6,
   "metadata": {
    "collapsed": true
   },
   "outputs": [],
   "source": [
    "import resnet\n",
    "from keras.callbacks import ReduceLROnPlateau, CSVLogger, EarlyStopping"
   ]
  },
  {
   "cell_type": "code",
   "execution_count": 7,
   "metadata": {},
   "outputs": [],
   "source": [
    "lr_reducer = ReduceLROnPlateau(factor=np.sqrt(0.1), cooldown=0, patience=5, min_lr=0.5e-6)\n",
    "early_stopper = EarlyStopping(min_delta=0.001, patience=10)\n",
    "csv_logger = CSVLogger('resnet_stockpredict.csv')\n",
    "batch_size = 32\n",
    "nb_classes = 1\n",
    "nb_epoch = 200\n",
    "img_channels = 1\n",
    "seq_len = 5\n",
    "img_rows, img_cols = seq_len, seq_len\n",
    "normalize = True"
   ]
  },
  {
   "cell_type": "code",
   "execution_count": 11,
   "metadata": {},
   "outputs": [
    {
     "name": "stdout",
     "output_type": "stream",
     "text": [
      "X_train shape : (3734, 5, 5, 1)\n",
      "Y_train shape : (3734,)\n",
      "X_test shape : (887, 5, 5, 1)\n",
      "Y_test shape : (887,)\n"
     ]
    },
    {
     "name": "stderr",
     "output_type": "stream",
     "text": [
      "/home/ros/anaconda3/lib/python3.6/site-packages/sklearn/utils/validation.py:429: DataConversionWarning: Data with input dtype int64 was converted to float64 by MinMaxScaler.\n",
      "  warnings.warn(msg, _DataConversionWarning)\n"
     ]
    }
   ],
   "source": [
    "X_train, Y_train  = dataPreprocessing('SPY_training.csv',normalize,seq_len)\n",
    "X_test, Y_test = dataPreprocessing('SPY_testing.csv',normalize,seq_len)\n",
    "# Convert class vectors to binary class matrices.\n",
    "# Y_train = np_utils.to_categorical(Y_train)\n",
    "# Y_test = np_utils.to_categorical(Y_test)\n",
    "\n",
    "X_train = X_train.astype('float32')\n",
    "X_test = X_test.astype('float32')\n",
    "\n",
    "print(\"X_train shape : {}\".format(X_train.shape))\n",
    "print(\"Y_train shape : {}\".format(Y_train.shape))\n",
    "print(\"X_test shape : {}\".format(X_test.shape))\n",
    "print(\"Y_test shape : {}\".format(Y_test.shape))"
   ]
  },
  {
   "cell_type": "code",
   "execution_count": null,
   "metadata": {},
   "outputs": [
    {
     "name": "stdout",
     "output_type": "stream",
     "text": [
      "Train on 3734 samples, validate on 887 samples\n",
      "Epoch 1/200\n",
      "3734/3734 [==============================] - 47s - loss: nan - acc: 2.6781e-04 - val_loss: 0.0211 - val_acc: 0.0000e+00\n",
      "Epoch 2/200\n",
      "3734/3734 [==============================] - 42s - loss: nan - acc: 2.6781e-04 - val_loss: 0.0036 - val_acc: 0.0000e+00\n",
      "Epoch 3/200\n",
      "3734/3734 [==============================] - 42s - loss: nan - acc: 2.6781e-04 - val_loss: 7.4287e-04 - val_acc: 0.0000e+00\n",
      "Epoch 4/200\n",
      "3734/3734 [==============================] - 42s - loss: nan - acc: 2.6781e-04 - val_loss: 1.5809e-04 - val_acc: 0.0000e+00\n",
      "Epoch 5/200\n",
      "3734/3734 [==============================] - 42s - loss: nan - acc: 2.6781e-04 - val_loss: 3.1327e-05 - val_acc: 0.0000e+00\n",
      "Epoch 6/200\n",
      "3734/3734 [==============================] - 42s - loss: nan - acc: 2.6781e-04 - val_loss: 5.5431e-06 - val_acc: 0.0000e+00\n",
      "Epoch 7/200\n",
      "3734/3734 [==============================] - 42s - loss: nan - acc: 2.6781e-04 - val_loss: 8.5984e-07 - val_acc: 0.0000e+00\n",
      "Epoch 8/200\n",
      "3734/3734 [==============================] - 45s - loss: nan - acc: 2.6781e-04 - val_loss: 1.1594e-07 - val_acc: 0.0000e+00\n",
      "Epoch 9/200\n",
      "3734/3734 [==============================] - 42s - loss: nan - acc: 2.6781e-04 - val_loss: 1.3487e-08 - val_acc: 0.0000e+00\n",
      "Epoch 10/200\n",
      "3734/3734 [==============================] - 42s - loss: nan - acc: 2.6781e-04 - val_loss: 1.3392e-09 - val_acc: 0.0000e+00\n",
      "Epoch 11/200\n",
      "3734/3734 [==============================] - 45s - loss: nan - acc: 2.6781e-04 - val_loss: 1.1187e-10 - val_acc: 0.0000e+00\n",
      "Epoch 12/200\n",
      "2528/3734 [===================>..........] - ETA: 13s - loss: nan - acc: 3.9557e-04    "
     ]
    }
   ],
   "source": [
    "model = resnet.ResnetBuilder.build_resnet_18((img_channels, img_rows, img_cols), nb_classes)\n",
    "model.compile(loss='sparse_categorical_crossentropy',\n",
    "              optimizer='adam',\n",
    "metrics=['accuracy'])\n",
    "model.fit(X_train, Y_train,\n",
    "          batch_size=batch_size,\n",
    "          epochs=nb_epoch,\n",
    "          validation_data=(X_test, Y_test),\n",
    "          shuffle=True,\n",
    "          callbacks=[lr_reducer, early_stopper, csv_logger])"
   ]
  },
  {
   "cell_type": "code",
   "execution_count": null,
   "metadata": {},
   "outputs": [],
   "source": [
    "metrics = model.evaluate(X_train, Y_train)\n",
    "print('')\n",
    "print(np.ravel(model.predict(X_train)))\n",
    "print('training data results: ')\n",
    "for i in range(len(model.metrics_names)):\n",
    "    print(str(model.metrics_names[i]) + \": \" + str(metrics[i]))"
   ]
  },
  {
   "cell_type": "code",
   "execution_count": null,
   "metadata": {
    "collapsed": true
   },
   "outputs": [],
   "source": []
  },
  {
   "cell_type": "code",
   "execution_count": null,
   "metadata": {
    "collapsed": true
   },
   "outputs": [],
   "source": []
  }
 ],
 "metadata": {
  "kernelspec": {
   "display_name": "Python 3",
   "language": "python",
   "name": "python3"
  },
  "language_info": {
   "codemirror_mode": {
    "name": "ipython",
    "version": 3
   },
   "file_extension": ".py",
   "mimetype": "text/x-python",
   "name": "python",
   "nbconvert_exporter": "python",
   "pygments_lexer": "ipython3",
   "version": "3.6.1"
  }
 },
 "nbformat": 4,
 "nbformat_minor": 2
}
